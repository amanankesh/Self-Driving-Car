{
 "cells": [
  {
   "cell_type": "code",
   "execution_count": 13,
   "metadata": {},
   "outputs": [],
   "source": [
    "import torch\n",
    "import torch.nn as nn"
   ]
  },
  {
   "cell_type": "code",
   "execution_count": 140,
   "metadata": {},
   "outputs": [
    {
     "name": "stdout",
     "output_type": "stream",
     "text": [
      "5.2722625732421875\n",
      "7.889556407928467\n",
      "9.096728324890137\n",
      "12.392080307006836\n",
      "15.042319297790527\n",
      "18.635601043701172\n",
      "21.60005760192871\n",
      "24.326997756958008\n",
      "28.457080841064453\n",
      "31.000865936279297\n"
     ]
    }
   ],
   "source": [
    "CNNmodel = nn.Sequential(nn.Conv2d(3,24,(5,5),(2,2)),\n",
    "                      nn.ReLU(),\n",
    "                      nn.Conv2d(24,36,(5,5),(2,2)),\n",
    "                      nn.ReLU(),\n",
    "                      nn.Conv2d(36,48,(5,5),(2,2)),\n",
    "                      nn.ReLU(),\n",
    "                      nn.Conv2d(48,64,(3,3),(1,1)),\n",
    "                      nn.ReLU(),\n",
    "                      nn.Conv2d(64,64,(3,3),(1,1)),\n",
    "                      nn.ReLU(),\n",
    "                      nn.Flatten(),\n",
    "                      nn.Linear(1152,1),\n",
    "                      nn.ReLU()\n",
    "                     )\n",
    "loss_fn = torch.nn.MSELoss(reduction='sum')\n",
    "learning_rate = 1e-1\n",
    "optimizer = torch.optim.Adam(model.parameters(), lr=learning_rate)\n",
    "\n",
    "\n",
    "x = torch.rand((100, 3, 66, 200))\n",
    "y = torch.rand(100,1)\n",
    "for t in range(10 - 3):\n",
    "    y_pred = model(x[:t+3])\n",
    "    loss = loss_fn(y_pred, y[:(t+1)*10])\n",
    "    print(loss.item())\n",
    "    optimizer.zero_grad()\n",
    "    loss.backward()\n",
    "    optimizer.step()"
   ]
  },
  {
   "cell_type": "code",
   "execution_count": 89,
   "metadata": {},
   "outputs": [
    {
     "data": {
      "text/plain": [
       "tensor([[0.],\n",
       "        [0.],\n",
       "        [0.]], grad_fn=<ReluBackward0>)"
      ]
     },
     "execution_count": 89,
     "metadata": {},
     "output_type": "execute_result"
    }
   ],
   "source": [
    "y_ = model(x[:3])\n",
    "y_"
   ]
  },
  {
   "cell_type": "code",
   "execution_count": 72,
   "metadata": {},
   "outputs": [
    {
     "data": {
      "text/plain": [
       "tensor([[[-0.1098, -0.2896],\n",
       "         [ 0.0759, -0.1440],\n",
       "         [ 0.1196,  0.4973]],\n",
       "\n",
       "        [[-0.0456, -0.1544],\n",
       "         [ 0.0941, -0.0375],\n",
       "         [ 0.1306,  0.3898]]], grad_fn=<StackBackward>)"
      ]
     },
     "execution_count": 72,
     "metadata": {},
     "output_type": "execute_result"
    }
   ],
   "source": [
    "rnn = \n",
    "\n",
    "input = torch.randn(2, 3, 2)\n",
    "h0 = torch.randn(3, 1152, 1164)\n",
    "c0 = torch.randn(3, 1152, 1164)\n",
    "output, (hn, cn) = rnn(input, (h0, c0))\n",
    "output"
   ]
  }
 ],
 "metadata": {
  "kernelspec": {
   "display_name": "Python 3",
   "language": "python",
   "name": "python3"
  },
  "language_info": {
   "codemirror_mode": {
    "name": "ipython",
    "version": 3
   },
   "file_extension": ".py",
   "mimetype": "text/x-python",
   "name": "python",
   "nbconvert_exporter": "python",
   "pygments_lexer": "ipython3",
   "version": "3.8.5"
  }
 },
 "nbformat": 4,
 "nbformat_minor": 4
}
