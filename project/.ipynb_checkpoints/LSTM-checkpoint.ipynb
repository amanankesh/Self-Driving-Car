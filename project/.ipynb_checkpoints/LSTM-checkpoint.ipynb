{
 "cells": [
  {
   "cell_type": "code",
   "execution_count": null,
   "metadata": {},
   "outputs": [],
   "source": [
    "#CNN class\n",
    "#lstm class \n",
    "\n",
    "#model class\n",
    "\n",
    "#dataset class\n",
    "#error function\n",
    "#train function\n",
    "#test function"
   ]
  },
  {
   "cell_type": "code",
   "execution_count": 70,
   "metadata": {},
   "outputs": [],
   "source": [
    "import numpy as np\n",
    "import math\n",
    "class LSTM:\n",
    "    def __init__(self, size):\n",
    "        size = 3\n",
    "        self.describe = {}\n",
    "        self.ht = np.random.rand(size)\n",
    "        self.st = np.random.rand(size)\n",
    "\n",
    "        self.W = np.random.rand(size)\n",
    "        self.Wi = np.random.rand(size)\n",
    "        self.Wo = np.random.rand(size)\n",
    "        self.Wf = np.random.rand(size)\n",
    "\n",
    "        self.U = np.random.rand(size)\n",
    "        self.Ui = np.random.rand(size)\n",
    "        self.Uo = np.random.rand(size)\n",
    "        self.Uf = np.random.rand(size)\n",
    "\n",
    "        self.b = np.random.rand(size)\n",
    "        self.bi = np.random.rand(size)\n",
    "        self.bo = np.random.rand(size)\n",
    "        self.bf = np.random.rand(size)\n",
    "        \n",
    "        self.It = np.random.rand(size)\n",
    "        self.Ft = np.random.rand(size)\n",
    "        self.Ot = np.random.rand(size)\n",
    "        self.Tst = np.random.rand(size)\n",
    "        \n",
    "        self.describe['ht'] = self.ht\n",
    "        self.describe['st'] = self.st\n",
    "        self.describe['W'] = self.W\n",
    "        self.describe['U'] = self.U\n",
    "        self.describe['b'] = self.b\n",
    "        \n",
    "        self.describe['Wi'] = self.Wi\n",
    "        self.describe['Ui'] = self.Ui\n",
    "        self.describe['bi'] = self.bi\n",
    "        \n",
    "        self.describe['Wf'] = self.Wf\n",
    "        self.describe['Uf'] = self.Uf\n",
    "        self.describe['bf'] = self.bf\n",
    "        \n",
    "        self.describe['Wo'] = self.Wo\n",
    "        self.describe['Uo'] = self.Uo\n",
    "        self.describe['bo'] = self.bo\n",
    "        \n",
    "        self.describe['It'] = self.It\n",
    "        self.describe['Ft'] = self.Ft\n",
    "        self.describe['Ot'] = self.Ot\n",
    "        self.describe['Tst'] = self.Tst\n",
    "    \n",
    "        return \n",
    "    def sigmoid(self,x):\n",
    "        return 1 / (1 + math.exp(-x))\n",
    "    \n",
    "    def actFunction(self, x):\n",
    "        #print(x)\n",
    "        li = [self.sigmoid(x[i]) for i in range(x.size)]\n",
    "        \n",
    "        return np.array(li) \n",
    "    \n",
    "    def apply(self, xt):\n",
    "        actFunction = self.actFunction\n",
    "        #Input gate\n",
    "        self.It = actFunction(self.Wi * self.ht + self.Ui * xt + self.bi)\n",
    "        #Forget gate\n",
    "        self.Ft = actFunction(self.Wf * self.ht + self.Uf * xt + self.bf)\n",
    "        #output gate\n",
    "        self.Ot = actFunction(self.Wo * self.ht + self.Uo * xt + self.bo)\n",
    "        \n",
    "        #temporary state tst\n",
    "        self.TSt = actFunction(self.W * self.ht + self.U * xt + self.b)\n",
    "        #cell state\n",
    "        self.st = self.Ft * self.st + self.It * self.Tst\n",
    "        # hidden state\n",
    "        self.ht = self.Ot * actFunction(self.st)\n",
    "        return self.ht\n",
    "    \n",
    "    \n",
    "    \n",
    "    "
   ]
  },
  {
   "cell_type": "code",
   "execution_count": 71,
   "metadata": {},
   "outputs": [
    {
     "data": {
      "text/plain": [
       "{'ht': array([0.81435116, 0.27766686, 0.84245205]),\n",
       " 'st': array([0.43186061, 0.66864667, 0.61195087]),\n",
       " 'W': array([0.72747419, 0.10448234, 0.3252482 ]),\n",
       " 'U': array([0.19485879, 0.51189955, 0.5240542 ]),\n",
       " 'b': array([0.386026  , 0.25309003, 0.82505062]),\n",
       " 'Wi': array([0.90033059, 0.05974727, 0.82758736]),\n",
       " 'Ui': array([0.86406301, 0.54467907, 0.85129016]),\n",
       " 'bi': array([0.66484357, 0.34064292, 0.06917396]),\n",
       " 'Wf': array([0.19752307, 0.6420114 , 0.45380753]),\n",
       " 'Uf': array([0.59139499, 0.51097377, 0.93862945]),\n",
       " 'bf': array([0.84079886, 0.07850466, 0.06321813]),\n",
       " 'Wo': array([0.85731338, 0.70496737, 0.52120127]),\n",
       " 'Uo': array([0.66992407, 0.2817226 , 0.45079768]),\n",
       " 'bo': array([0.26329859, 0.18674165, 0.9039697 ]),\n",
       " 'It': array([0.38451509, 0.70717284, 0.25091386]),\n",
       " 'Ft': array([0.54749822, 0.91289134, 0.95292833]),\n",
       " 'Ot': array([0.54009618, 0.17630013, 0.64518765]),\n",
       " 'Tst': array([0.51083226, 0.34948485, 0.7939634 ])}"
      ]
     },
     "execution_count": 71,
     "metadata": {},
     "output_type": "execute_result"
    }
   ],
   "source": [
    "model = LSTM(3)\n",
    "model.describe"
   ]
  },
  {
   "cell_type": "code",
   "execution_count": 72,
   "metadata": {},
   "outputs": [
    {
     "name": "stdout",
     "output_type": "stream",
     "text": [
      "[2.26209183 1.44659091 4.17153725]\n",
      "[1.59304699 1.27871748 4.20004699]\n",
      "[1.63137681 0.94593293 3.14624749]\n",
      "[1.17330424 1.3059004  3.19527341]\n",
      "[0.82155021 0.80593503 1.38481014]\n"
     ]
    },
    {
     "data": {
      "text/plain": [
       "array([0.58090536, 0.49789965, 0.7667807 ])"
      ]
     },
     "execution_count": 72,
     "metadata": {},
     "output_type": "execute_result"
    }
   ],
   "source": [
    "x = model.apply([1,2,4])\n",
    "x"
   ]
  },
  {
   "cell_type": "code",
   "execution_count": null,
   "metadata": {},
   "outputs": [],
   "source": [
    "model.describe"
   ]
  },
  {
   "cell_type": "code",
   "execution_count": 50,
   "metadata": {},
   "outputs": [
    {
     "data": {
      "text/plain": [
       "3"
      ]
     },
     "execution_count": 50,
     "metadata": {},
     "output_type": "execute_result"
    }
   ],
   "source": [
    "x = np.array([1,3,4])\n",
    "t = x*[2,3,4] + np.array([5,4,6])\n",
    "t.size"
   ]
  }
 ],
 "metadata": {
  "kernelspec": {
   "display_name": "Python 3",
   "language": "python",
   "name": "python3"
  },
  "language_info": {
   "codemirror_mode": {
    "name": "ipython",
    "version": 3
   },
   "file_extension": ".py",
   "mimetype": "text/x-python",
   "name": "python",
   "nbconvert_exporter": "python",
   "pygments_lexer": "ipython3",
   "version": "3.8.5"
  }
 },
 "nbformat": 4,
 "nbformat_minor": 4
}
