{
 "cells": [
  {
   "cell_type": "code",
   "execution_count": 139,
   "metadata": {},
   "outputs": [
    {
     "name": "stdout",
     "output_type": "stream",
     "text": [
      "tensor([0.7041, 0.5777, 0.7175], grad_fn=<MulBackward0>)\n"
     ]
    },
    {
     "data": {
      "text/plain": [
       "tensor([0.0086, 0.0000, 0.0000])"
      ]
     },
     "execution_count": 139,
     "metadata": {},
     "output_type": "execute_result"
    }
   ],
   "source": [
    "import torch\n",
    "import math\n",
    "class LSTM:\n",
    "    def __init__(self, size):\n",
    "        size = 3\n",
    "        self.describe = {}\n",
    "        \n",
    "        #params\n",
    "        self.W = torch.rand(size, requires_grad=True)\n",
    "        self.Wi = torch.rand(size, requires_grad=True)\n",
    "        self.Wo = torch.rand(size, requires_grad=True)\n",
    "        self.Wf = torch.rand(size, requires_grad=True)\n",
    "\n",
    "        self.U = torch.rand(size, requires_grad=True)\n",
    "        self.Ui = torch.rand(size, requires_grad=True)\n",
    "        self.Uo = torch.rand(size, requires_grad=True)\n",
    "        self.Uf = torch.rand(size, requires_grad=True)\n",
    "\n",
    "        self.b = torch.rand(size, requires_grad=True)\n",
    "        self.bi = torch.rand(size, requires_grad=True)\n",
    "        self.bo = torch.rand(size, requires_grad=True)\n",
    "        self.bf = torch.rand(size, requires_grad=True)\n",
    "        \n",
    "        #states\n",
    "        self.ht = torch.rand(size)\n",
    "        self.st = torch.rand(size)\n",
    "        self.Tst = torch.rand(size)\n",
    "        \n",
    "        # gates \n",
    "        self.It = torch.rand(size)\n",
    "        self.Ft = torch.rand(size)\n",
    "        self.Ot = torch.rand(size)\n",
    "        \n",
    "        return \n",
    "    \n",
    "    def params(self):\n",
    "        self.describe['ht'] = self.ht\n",
    "        self.describe['st'] = self.st\n",
    "        self.describe['W'] = self.W\n",
    "        self.describe['U'] = self.U\n",
    "        self.describe['b'] = self.b\n",
    "        \n",
    "        self.describe['Wi'] = self.Wi\n",
    "        self.describe['Ui'] = self.Ui\n",
    "        self.describe['bi'] = self.bi\n",
    "        \n",
    "        self.describe['Wf'] = self.Wf\n",
    "        self.describe['Uf'] = self.Uf\n",
    "        self.describe['bf'] = self.bf\n",
    "        \n",
    "        self.describe['Wo'] = self.Wo\n",
    "        self.describe['Uo'] = self.Uo\n",
    "        self.describe['bo'] = self.bo\n",
    "        \n",
    "        self.describe['It'] = self.It\n",
    "        self.describe['Ft'] = self.Ft\n",
    "        self.describe['Ot'] = self.Ot\n",
    "        self.describe['Tst'] = self.Tst\n",
    "        return self.describe\n",
    "    \n",
    "    def sigmoid(self,x):\n",
    "        return 1 / (1 + math.exp(-x))\n",
    "    \n",
    "    def actFunction(self, x):\n",
    "        return torch.sigmoid(x) \n",
    "    \n",
    "    def apply(self, xt):\n",
    "        actFunction = self.actFunction\n",
    "        #Input gate\n",
    "        self.It = actFunction(self.Wi * self.ht + self.Ui * xt + self.bi)\n",
    "        #Forget gate\n",
    "        self.Ft = actFunction(self.Wf * self.ht + self.Uf * xt + self.bf)\n",
    "        #output gate\n",
    "        self.Ot = actFunction(self.Wo * self.ht + self.Uo * xt + self.bo)\n",
    "        \n",
    "        #temporary state tst\n",
    "        self.Tst = actFunction(self.W * self.ht + self.U * xt + self.b)\n",
    "        #cell state\n",
    "        self.st = self.Ft * self.st + self.It * self.Tst\n",
    "        # hidden state\n",
    "        self.ht = self.Ot * actFunction(self.st)\n",
    "        return self.ht\n",
    "\n",
    "    \n",
    "def train():\n",
    "    for input, target in dataset:\n",
    "        optimizer.zero_grad()\n",
    "        output = model(input)\n",
    "        loss = loss_fn(output, target)\n",
    "        loss.backward()\n",
    "        optimizer.step()\n",
    "\n",
    "    \n",
    "model = LSTM(3)\n",
    "xt = torch.tensor([1,2,3])\n",
    "y = model.apply(xt)\n",
    "\n",
    "print(y)\n",
    "#model.params()\n",
    "\n",
    "y[0].backward()\n",
    "model.W.grad"
   ]
  },
  {
   "cell_type": "code",
   "execution_count": 133,
   "metadata": {},
   "outputs": [
    {
     "data": {
      "text/plain": [
       "tensor(12.)"
      ]
     },
     "execution_count": 133,
     "metadata": {},
     "output_type": "execute_result"
    }
   ],
   "source": [
    "a = torch.tensor(1., requires_grad = True)\n",
    "b = torch.tensor(3., requires_grad = True)\n",
    "#x = a*b\n",
    "c = torch.tensor(4.)\n",
    "x = c *a*b\n",
    "x.backward()\n",
    "a.grad"
   ]
  },
  {
   "cell_type": "code",
   "execution_count": 109,
   "metadata": {},
   "outputs": [
    {
     "data": {
      "text/plain": [
       "{'ht': array([0.39242422, 0.26381669, 0.27738256]),\n",
       " 'st': array([0.05358252, 0.77886007, 0.91576527]),\n",
       " 'W': array([0.62315329, 0.73418029, 0.0743484 ]),\n",
       " 'U': array([0.43302254, 0.66950187, 0.36207133]),\n",
       " 'b': array([0.39992735, 0.89464313, 0.40140242]),\n",
       " 'Wi': array([0.82979774, 0.00147245, 0.532249  ]),\n",
       " 'Ui': array([0.51131341, 0.85532833, 0.40716028]),\n",
       " 'bi': array([0.34478829, 0.57475852, 0.67099443]),\n",
       " 'Wf': array([0.74301602, 0.51447308, 0.74847522]),\n",
       " 'Uf': array([0.62047713, 0.03544008, 0.73678152]),\n",
       " 'bf': array([0.89479618, 0.14301349, 0.81211241]),\n",
       " 'Wo': array([0.33421242, 0.56399332, 0.8585902 ]),\n",
       " 'Uo': array([0.0037347 , 0.46843093, 0.7853012 ]),\n",
       " 'bo': array([0.04038124, 0.02546341, 0.21273289]),\n",
       " 'It': array([0.78081928, 0.84098572, 0.77660704]),\n",
       " 'Ft': array([0.36593455, 0.76527385, 0.47994283]),\n",
       " 'Ot': array([0.57937577, 0.79798225, 0.40323391]),\n",
       " 'Tst': array([0.0671276 , 0.69922624, 0.44708639])}"
      ]
     },
     "execution_count": 109,
     "metadata": {},
     "output_type": "execute_result"
    }
   ],
   "source": [
    "import numpy as np\n",
    "import math\n",
    "class LSTM:\n",
    "    def __init__(self, size):\n",
    "        size = 3\n",
    "        self.describe = {}\n",
    "        self.ht = np.random.rand(size)\n",
    "        self.st = np.random.rand(size)\n",
    "\n",
    "        self.W = np.random.rand(size)\n",
    "        self.Wi = np.random.rand(size)\n",
    "        self.Wo = np.random.rand(size)\n",
    "        self.Wf = np.random.rand(size)\n",
    "\n",
    "        self.U = np.random.rand(size)\n",
    "        self.Ui = np.random.rand(size)\n",
    "        self.Uo = np.random.rand(size)\n",
    "        self.Uf = np.random.rand(size)\n",
    "\n",
    "        self.b = np.random.rand(size)\n",
    "        self.bi = np.random.rand(size)\n",
    "        self.bo = np.random.rand(size)\n",
    "        self.bf = np.random.rand(size)\n",
    "        \n",
    "        self.It = np.random.rand(size)\n",
    "        self.Ft = np.random.rand(size)\n",
    "        self.Ot = np.random.rand(size)\n",
    "        self.Tst = np.random.rand(size)\n",
    "        return \n",
    "    \n",
    "    def params(self):\n",
    "        self.describe['ht'] = self.ht\n",
    "        self.describe['st'] = self.st\n",
    "        self.describe['W'] = self.W\n",
    "        self.describe['U'] = self.U\n",
    "        self.describe['b'] = self.b\n",
    "        \n",
    "        self.describe['Wi'] = self.Wi\n",
    "        self.describe['Ui'] = self.Ui\n",
    "        self.describe['bi'] = self.bi\n",
    "        \n",
    "        self.describe['Wf'] = self.Wf\n",
    "        self.describe['Uf'] = self.Uf\n",
    "        self.describe['bf'] = self.bf\n",
    "        \n",
    "        self.describe['Wo'] = self.Wo\n",
    "        self.describe['Uo'] = self.Uo\n",
    "        self.describe['bo'] = self.bo\n",
    "        \n",
    "        self.describe['It'] = self.It\n",
    "        self.describe['Ft'] = self.Ft\n",
    "        self.describe['Ot'] = self.Ot\n",
    "        self.describe['Tst'] = self.Tst\n",
    "        return self.describe\n",
    "    \n",
    "    def sigmoid(self,x):\n",
    "        return 1 / (1 + math.exp(-x))\n",
    "    \n",
    "    def actFunction(self, x):\n",
    "        #print(x)\n",
    "        li = [self.sigmoid(x[i]) for i in range(x.size)]\n",
    "        \n",
    "        return np.array(li) \n",
    "    \n",
    "    def apply(self, xt):\n",
    "        actFunction = self.actFunction\n",
    "        #Input gate\n",
    "        self.It = actFunction(self.Wi * self.ht + self.Ui * xt + self.bi)\n",
    "        #Forget gate\n",
    "        self.Ft = actFunction(self.Wf * self.ht + self.Uf * xt + self.bf)\n",
    "        #output gate\n",
    "        self.Ot = actFunction(self.Wo * self.ht + self.Uo * xt + self.bo)\n",
    "        \n",
    "        #temporary state tst\n",
    "        self.TSt = actFunction(self.W * self.ht + self.U * xt + self.b)\n",
    "        #cell state\n",
    "        self.st = self.Ft * self.st + self.It * self.Tst\n",
    "        # hidden state\n",
    "        self.ht = self.Ot * actFunction(self.st)\n",
    "        return self.ht\n",
    "    \n",
    "    \n",
    "    \n",
    "model = LSTM(3)\n",
    "model.params()  "
   ]
  },
  {
   "cell_type": "code",
   "execution_count": 110,
   "metadata": {},
   "outputs": [
    {
     "data": {
      "text/plain": [
       "array([0.28508099, 0.5632485 , 0.76644345])"
      ]
     },
     "execution_count": 110,
     "metadata": {},
     "output_type": "execute_result"
    }
   ],
   "source": [
    "x = model.apply([1,2,4])\n",
    "x"
   ]
  },
  {
   "cell_type": "code",
   "execution_count": 111,
   "metadata": {},
   "outputs": [
    {
     "data": {
      "text/plain": [
       "{'ht': array([0.28508099, 0.5632485 , 0.76644345]),\n",
       " 'st': array([0.09739639, 1.09150506, 1.31023052]),\n",
       " 'W': array([0.62315329, 0.73418029, 0.0743484 ]),\n",
       " 'U': array([0.43302254, 0.66950187, 0.36207133]),\n",
       " 'b': array([0.39992735, 0.89464313, 0.40140242]),\n",
       " 'Wi': array([0.82979774, 0.00147245, 0.532249  ]),\n",
       " 'Ui': array([0.51131341, 0.85532833, 0.40716028]),\n",
       " 'bi': array([0.34478829, 0.57475852, 0.67099443]),\n",
       " 'Wf': array([0.74301602, 0.51447308, 0.74847522]),\n",
       " 'Uf': array([0.62047713, 0.03544008, 0.73678152]),\n",
       " 'bf': array([0.89479618, 0.14301349, 0.81211241]),\n",
       " 'Wo': array([0.33421242, 0.56399332, 0.8585902 ]),\n",
       " 'Uo': array([0.0037347 , 0.46843093, 0.7853012 ]),\n",
       " 'bo': array([0.04038124, 0.02546341, 0.21273289]),\n",
       " 'It': array([0.76525952, 0.90769446, 0.92036174]),\n",
       " 'Ft': array([0.85898083, 0.58652548, 0.98141886]),\n",
       " 'Ot': array([0.54370542, 0.75233713, 0.9731976 ]),\n",
       " 'Tst': array([0.0671276 , 0.69922624, 0.44708639])}"
      ]
     },
     "execution_count": 111,
     "metadata": {},
     "output_type": "execute_result"
    }
   ],
   "source": [
    "model.params()"
   ]
  },
  {
   "cell_type": "code",
   "execution_count": 8,
   "metadata": {},
   "outputs": [
    {
     "ename": "RuntimeError",
     "evalue": "lstm expects two hidden states",
     "output_type": "error",
     "traceback": [
      "\u001b[1;31m---------------------------------------------------------------------------\u001b[0m",
      "\u001b[1;31mRuntimeError\u001b[0m                              Traceback (most recent call last)",
      "\u001b[1;32m<ipython-input-8-925b7b67c2cc>\u001b[0m in \u001b[0;36m<module>\u001b[1;34m\u001b[0m\n\u001b[0;32m     20\u001b[0m     \u001b[1;31m# Step through the sequence one element at a time.\u001b[0m\u001b[1;33m\u001b[0m\u001b[1;33m\u001b[0m\u001b[1;33m\u001b[0m\u001b[0m\n\u001b[0;32m     21\u001b[0m     \u001b[1;31m# after each step, hidden contains the hidden state.\u001b[0m\u001b[1;33m\u001b[0m\u001b[1;33m\u001b[0m\u001b[1;33m\u001b[0m\u001b[0m\n\u001b[1;32m---> 22\u001b[1;33m     \u001b[0mout\u001b[0m\u001b[1;33m,\u001b[0m \u001b[0mhidden\u001b[0m \u001b[1;33m=\u001b[0m \u001b[0mlstm\u001b[0m\u001b[1;33m(\u001b[0m\u001b[0mi\u001b[0m\u001b[1;33m.\u001b[0m\u001b[0mview\u001b[0m\u001b[1;33m(\u001b[0m\u001b[1;36m1\u001b[0m\u001b[1;33m,\u001b[0m \u001b[1;36m1\u001b[0m\u001b[1;33m,\u001b[0m \u001b[1;33m-\u001b[0m\u001b[1;36m1\u001b[0m\u001b[1;33m)\u001b[0m\u001b[1;33m,\u001b[0m \u001b[0mhidden\u001b[0m\u001b[1;33m)\u001b[0m\u001b[1;33m\u001b[0m\u001b[1;33m\u001b[0m\u001b[0m\n\u001b[0m\u001b[0;32m     23\u001b[0m \u001b[1;33m\u001b[0m\u001b[0m\n\u001b[0;32m     24\u001b[0m \u001b[0mprint\u001b[0m\u001b[1;33m(\u001b[0m\u001b[0mhidden\u001b[0m\u001b[1;33m)\u001b[0m\u001b[1;33m\u001b[0m\u001b[1;33m\u001b[0m\u001b[0m\n",
      "\u001b[1;32m~\\anaconda3\\lib\\site-packages\\torch\\nn\\modules\\module.py\u001b[0m in \u001b[0;36m__call__\u001b[1;34m(self, *input, **kwargs)\u001b[0m\n\u001b[0;32m    530\u001b[0m             \u001b[0mresult\u001b[0m \u001b[1;33m=\u001b[0m \u001b[0mself\u001b[0m\u001b[1;33m.\u001b[0m\u001b[0m_slow_forward\u001b[0m\u001b[1;33m(\u001b[0m\u001b[1;33m*\u001b[0m\u001b[0minput\u001b[0m\u001b[1;33m,\u001b[0m \u001b[1;33m**\u001b[0m\u001b[0mkwargs\u001b[0m\u001b[1;33m)\u001b[0m\u001b[1;33m\u001b[0m\u001b[1;33m\u001b[0m\u001b[0m\n\u001b[0;32m    531\u001b[0m         \u001b[1;32melse\u001b[0m\u001b[1;33m:\u001b[0m\u001b[1;33m\u001b[0m\u001b[1;33m\u001b[0m\u001b[0m\n\u001b[1;32m--> 532\u001b[1;33m             \u001b[0mresult\u001b[0m \u001b[1;33m=\u001b[0m \u001b[0mself\u001b[0m\u001b[1;33m.\u001b[0m\u001b[0mforward\u001b[0m\u001b[1;33m(\u001b[0m\u001b[1;33m*\u001b[0m\u001b[0minput\u001b[0m\u001b[1;33m,\u001b[0m \u001b[1;33m**\u001b[0m\u001b[0mkwargs\u001b[0m\u001b[1;33m)\u001b[0m\u001b[1;33m\u001b[0m\u001b[1;33m\u001b[0m\u001b[0m\n\u001b[0m\u001b[0;32m    533\u001b[0m         \u001b[1;32mfor\u001b[0m \u001b[0mhook\u001b[0m \u001b[1;32min\u001b[0m \u001b[0mself\u001b[0m\u001b[1;33m.\u001b[0m\u001b[0m_forward_hooks\u001b[0m\u001b[1;33m.\u001b[0m\u001b[0mvalues\u001b[0m\u001b[1;33m(\u001b[0m\u001b[1;33m)\u001b[0m\u001b[1;33m:\u001b[0m\u001b[1;33m\u001b[0m\u001b[1;33m\u001b[0m\u001b[0m\n\u001b[0;32m    534\u001b[0m             \u001b[0mhook_result\u001b[0m \u001b[1;33m=\u001b[0m \u001b[0mhook\u001b[0m\u001b[1;33m(\u001b[0m\u001b[0mself\u001b[0m\u001b[1;33m,\u001b[0m \u001b[0minput\u001b[0m\u001b[1;33m,\u001b[0m \u001b[0mresult\u001b[0m\u001b[1;33m)\u001b[0m\u001b[1;33m\u001b[0m\u001b[1;33m\u001b[0m\u001b[0m\n",
      "\u001b[1;32m~\\anaconda3\\lib\\site-packages\\torch\\nn\\modules\\rnn.py\u001b[0m in \u001b[0;36mforward\u001b[1;34m(self, input, hx)\u001b[0m\n\u001b[0;32m    556\u001b[0m         \u001b[0mself\u001b[0m\u001b[1;33m.\u001b[0m\u001b[0mcheck_forward_args\u001b[0m\u001b[1;33m(\u001b[0m\u001b[0minput\u001b[0m\u001b[1;33m,\u001b[0m \u001b[0mhx\u001b[0m\u001b[1;33m,\u001b[0m \u001b[0mbatch_sizes\u001b[0m\u001b[1;33m)\u001b[0m\u001b[1;33m\u001b[0m\u001b[1;33m\u001b[0m\u001b[0m\n\u001b[0;32m    557\u001b[0m         \u001b[1;32mif\u001b[0m \u001b[0mbatch_sizes\u001b[0m \u001b[1;32mis\u001b[0m \u001b[1;32mNone\u001b[0m\u001b[1;33m:\u001b[0m\u001b[1;33m\u001b[0m\u001b[1;33m\u001b[0m\u001b[0m\n\u001b[1;32m--> 558\u001b[1;33m             result = _VF.lstm(input, hx, self._flat_weights, self.bias, self.num_layers,\n\u001b[0m\u001b[0;32m    559\u001b[0m                               self.dropout, self.training, self.bidirectional, self.batch_first)\n\u001b[0;32m    560\u001b[0m         \u001b[1;32melse\u001b[0m\u001b[1;33m:\u001b[0m\u001b[1;33m\u001b[0m\u001b[1;33m\u001b[0m\u001b[0m\n",
      "\u001b[1;31mRuntimeError\u001b[0m: lstm expects two hidden states"
     ]
    }
   ],
   "source": [
    "import torch\n",
    "import torch.nn as nn\n",
    "import torch.nn.functional as F\n",
    "import torch.optim as optim\n",
    "\n",
    "torch.manual_seed(1)\n",
    "input_dim = 10\n",
    "hidden_dim = 10\n",
    "lstm = nn.LSTM(input_dim, hidden_dim)\n",
    "\n",
    "\n",
    "inputs = [torch.randn(1, 10) for _ in range(5)]  # make a sequence of length 5\n",
    "#print(inputs)\n",
    "# initialize the hidden state.\n",
    "hidden = (torch.randn(1, 1, 10),\n",
    "          torch.randn(1, 1, 10))\n",
    "\n",
    "for i in inputs:\n",
    "    # Step through the sequence one element at a time.\n",
    "    # after each step, hidden contains the hidden state.\n",
    "    out, hidden = lstm(i.view(1, 1, -1), hidden)\n",
    "    \n",
    "print(hidden)"
   ]
  },
  {
   "cell_type": "code",
   "execution_count": 9,
   "metadata": {},
   "outputs": [],
   "source": [
    "model = nn.Sequential(\n",
    "          nn.Conv2d(1,20,5),\n",
    "          nn.ReLU(),\n",
    "          nn.Conv2d(20,64,5),\n",
    "          nn.ReLU()\n",
    "        )\n"
   ]
  }
 ],
 "metadata": {
  "kernelspec": {
   "display_name": "Python 3",
   "language": "python",
   "name": "python3"
  },
  "language_info": {
   "codemirror_mode": {
    "name": "ipython",
    "version": 3
   },
   "file_extension": ".py",
   "mimetype": "text/x-python",
   "name": "python",
   "nbconvert_exporter": "python",
   "pygments_lexer": "ipython3",
   "version": "3.8.5"
  }
 },
 "nbformat": 4,
 "nbformat_minor": 4
}
